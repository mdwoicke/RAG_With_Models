{
 "cells": [
  {
   "cell_type": "markdown",
   "metadata": {},
   "source": [
    "### Download Ollama & Qwen2\n",
    "- [ollama run qwen2](https://ollama.com/library/qwen2)\n",
    "\n",
    "\n",
    "### Install necessary packages\n",
    "```bash\n",
    "    !pip install ollama\n",
    "    !pip install llama-index==0.10.32\n",
    "    !pip install langchain\n",
    "    !pip install langchain_community\n",
    "    !pip install llama-index-embeddings-ollama\n",
    "    !pip install\n",
    "    \n",
    "    "
   ]
  },
  {
   "cell_type": "markdown",
   "metadata": {},
   "source": [
    "### 1. Embeddings using Ollama"
   ]
  },
  {
   "cell_type": "code",
   "execution_count": 1,
   "metadata": {},
   "outputs": [],
   "source": [
    "import ollama\n"
   ]
  },
  {
   "cell_type": "markdown",
   "metadata": {},
   "source": [
    "### 2. Embeddings using Ollama & LlamaIndex \n",
    "<img src=\"https://asset.brandfetch.io/id6a4s3gXI/idncpUsO_z.jpeg\" width=\"50\">"
   ]
  },
  {
   "cell_type": "code",
   "execution_count": 4,
   "metadata": {},
   "outputs": [],
   "source": [
    "from llama_index.embeddings.ollama import OllamaEmbedding\n",
    "\n",
    "\n",
    "\n"
   ]
  },
  {
   "cell_type": "markdown",
   "metadata": {},
   "source": [
    "#### 2.a Create Single embedding"
   ]
  },
  {
   "cell_type": "markdown",
   "metadata": {},
   "source": [
    "### 3. Embeddings using Ollama & Langchain \n",
    "<img src=\"https://api.nuget.org/v3-flatcontainer/langchain/0.12.3-dev.84/icon\" width=\"50\">"
   ]
  },
  {
   "cell_type": "code",
   "execution_count": null,
   "metadata": {},
   "outputs": [],
   "source": []
  },
  {
   "cell_type": "markdown",
   "metadata": {},
   "source": [
    "### 4. Embeddings Using Hugginface"
   ]
  }
 ],
 "metadata": {
  "kernelspec": {
   "display_name": "base",
   "language": "python",
   "name": "python3"
  },
  "language_info": {
   "codemirror_mode": {
    "name": "ipython",
    "version": 3
   },
   "file_extension": ".py",
   "mimetype": "text/x-python",
   "name": "python",
   "nbconvert_exporter": "python",
   "pygments_lexer": "ipython3",
   "version": "3.11.7"
  }
 },
 "nbformat": 4,
 "nbformat_minor": 2
}
