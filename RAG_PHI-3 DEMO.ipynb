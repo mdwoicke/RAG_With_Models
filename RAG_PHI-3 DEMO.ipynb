{
 "cells": [
  {
   "cell_type": "markdown",
   "metadata": {},
   "source": [
    "# List of Packages to Download\n",
    "\n",
    "```python\n",
    "!pip install langchain-chroma\n",
    "!pip install langchain\n",
    "!pip install langchain_community\n",
    "!pip install langchainhub\n",
    "!pip install --upgrade --quiet  gpt4all > /dev/null"
   ]
  },
  {
   "cell_type": "markdown",
   "metadata": {},
   "source": [
    "# 1. Get a Data Loader\n"
   ]
  },
  {
   "cell_type": "code",
   "execution_count": 1,
   "metadata": {},
   "outputs": [],
   "source": [
    "from langchain_community.document_loaders import WebBaseLoader\n"
   ]
  },
  {
   "cell_type": "code",
   "execution_count": 2,
   "metadata": {},
   "outputs": [
    {
     "data": {
      "text/plain": [
       "[Document(page_content=\"\\n\\n\\nLeBron James Stats - NBA | FOX Sports\\n\\n\\n    my favs \\n          Access and manage your favorites here\\n          \\n            DISMISS\\n                  Home Scores Watch NFL Draft Podcasts Odds Super 6 Stories  \\n                  Search\\n                     \\n                  Sign In\\n                    \\n                  Account\\n                    \\n              SPORTS & TEAMS\\n             \\n              PLAYERS\\n             \\n              SHOWS\\n             \\n              PERSONALITIES\\n                    SPORTS   SPORTS & TEAMSPLAYERSSHOWSPERSONALITIES \\n          SPORTS\\n          \\n                NFL\\n                \\n                NCAA FB\\n                \\n                MLB\\n                \\n                NBA\\n                \\n                NCAA BK\\n                \\n                NASCAR\\n                \\n                Soccer\\n                \\n                UFL\\n                \\n                NCAAW BK\\n                \\n                NHL\\n                \\n                Golf\\n                \\n                Premier Boxing Champions\\n                \\n                WWE\\n                \\n                UFC\\n                \\n                WNBA\\n                \\n                Tennis\\n                \\n                Motor Sports\\n                \\n                Professional Bowlers Association\\n                \\n                Horse Racing\\n                \\n                Westminster Kennel Club\\n                \\n                FIBA\\n                \\n                Olympics\\n                \\n                World Baseball Classic\\n                \\n                NRL\\n                    \\n      NBA\\n     \\n      NBA\\n      \\n              NBA\\n              \\n              Atlanta Hawks\\n              \\n              Boston Celtics\\n              \\n              Brooklyn Nets\\n              \\n              Charlotte Hornets\\n              \\n              Chicago Bulls\\n              \\n              Cleveland Cavaliers\\n              \\n              Dallas Mavericks\\n              \\n              Denver Nuggets\\n              \\n              Detroit Pistons\\n              \\n              Golden State Warriors\\n              \\n              Houston Rockets\\n              \\n              Indiana Pacers\\n              \\n              LA Clippers\\n              \\n              Los Angeles Lakers\\n              \\n              Memphis Grizzlies\\n              \\n              Miami Heat\\n              \\n              Milwaukee Bucks\\n              \\n              Minnesota Timberwolves\\n              \\n              New Orleans Pelicans\\n              \\n              New York Knicks\\n              \\n              Oklahoma City Thunder\\n              \\n              Orlando Magic\\n              \\n              Philadelphia 76ers\\n              \\n              Phoenix Suns\\n              \\n              Portland Trail Blazers\\n              \\n              Sacramento Kings\\n              \\n              San Antonio Spurs\\n              \\n              Toronto Raptors\\n              \\n              Utah Jazz\\n              \\n              Washington Wizards\\n                   LEBRON JAMES #23 - SMALL FORWARD - LOS ANGELES LAKERS 25.7\\xa0 PPG\\xa0 •\\n            7.3\\xa0 RPG\\xa0 •\\n            8.3\\xa0 APG\\xa0   \\n          #23 - SMALL FORWARD - LOS ANGELES LAKERS\\n          25.7 PPG7.3 RPG8.3 APG     NBA > LOS ANGELES LAKERS > LEBRON JAMES  STATS  \\n      NEWS\\n    \\n      BIO\\n    \\n      SOCIAL\\n    \\n      STATS\\n    \\n      VIDEOS\\n    \\n      GAME LOG\\n    \\n      INJURIES\\n         \\n            SCORING\\n             26.3 PPG \\n                    13TH IN THE LEAGUE\\n                  \\n            REBOUNDING\\n             6.7 RPG \\n                    32ND IN THE LEAGUE\\n                  \\n            SHOOTING\\n             62.7 EFG% \\n            ASSISTS\\n             9.7 APG \\n                    5TH IN THE LEAGUE\\n                  \\n            DEFENSE\\n             1.7 SPG \\n                    17TH IN THE LEAGUE\\n                  \\n            DEFENSE\\n             1.3 BPG \\n            MISC\\n             -15 +/- \\n            ADVANCED\\n             28.9 USG%       Top Leagues  NFL College Football NBA MLB College Basketball UFL Top Shows  Undisputed The Herd with Colin Cowherd First Things First Flippin' Bats with Ben Verlander The Skip Bayless Show The Carton Show Affiliated Apps  FOX Sports Quick Links  2024 Copa America UEFA Euro 2024 NBA Playoff Bracket NFL Draft \\n      FOX SPORTS™, SPEED™, SPEED.COM™ & © 2024 Fox Media LLC and\\n      Fox Sports Interactive Media, LLC. All rights reserved. Use of this\\n      website (including any and all parts and components) constitutes your\\n      acceptance of these\\n      \\n          Updated Terms of Use and \\n        \\n          Privacy Policy | \\n        \\n          Advertising Choices | \\n        \\n          Your Privacy Choices | \\n        \\n          Closed Captioning\\n                HelpPressAdvertise with UsJobsFOX CincyRSSSitemap FS1FOXFOX NewsFox CorporationFOX Sports SupportsFOX Deportes \\n\\n\\n\", metadata={'source': 'https://www.foxsports.com/nba/lebron-james-player-stats', 'title': 'LeBron James Stats - NBA | FOX Sports', 'description': 'Find detailed LeBron James Stats on FOXSports.com. Explore all Los Angeles Lakers NBA player stats - including scoring, rebounding, shooting, assists & more!', 'language': 'en-US'})]"
      ]
     },
     "execution_count": 2,
     "metadata": {},
     "output_type": "execute_result"
    }
   ],
   "source": [
    "loader = WebBaseLoader(\"https://www.foxsports.com/nba/lebron-james-player-stats\")\n",
    "data = loader.load()\n",
    "data"
   ]
  },
  {
   "cell_type": "markdown",
   "metadata": {},
   "source": [
    "# 2. Convert data to Vector Database\n"
   ]
  },
  {
   "cell_type": "code",
   "execution_count": 3,
   "metadata": {},
   "outputs": [],
   "source": [
    "from langchain.vectorstores import Chroma\n",
    "from langchain.embeddings import GPT4AllEmbeddings\n",
    "from langchain.text_splitter import RecursiveCharacterTextSplitter"
   ]
  },
  {
   "cell_type": "code",
   "execution_count": 4,
   "metadata": {},
   "outputs": [],
   "source": [
    "text_splitter = RecursiveCharacterTextSplitter(chunk_size=1000, chunk_overlap=200)\n",
    "splits = text_splitter.split_documents(data)"
   ]
  },
  {
   "cell_type": "code",
   "execution_count": 5,
   "metadata": {},
   "outputs": [
    {
     "data": {
      "text/plain": [
       "<langchain_community.vectorstores.chroma.Chroma at 0x10aaa42d0>"
      ]
     },
     "execution_count": 5,
     "metadata": {},
     "output_type": "execute_result"
    }
   ],
   "source": [
    "Chroma.from_documents(documents=splits, embedding=GPT4AllEmbeddings(), persist_directory=\"./chroma_db\")"
   ]
  },
  {
   "cell_type": "markdown",
   "metadata": {},
   "source": [
    "# 3. Make a RAG pipeline\n"
   ]
  },
  {
   "cell_type": "code",
   "execution_count": 6,
   "metadata": {},
   "outputs": [],
   "source": [
    "\n",
    "from langchain_core.output_parsers import StrOutputParser\n",
    "from langchain_core.prompts import ChatPromptTemplate\n",
    "from langchain.chains import RetrievalQA\n",
    "from langchain import hub"
   ]
  },
  {
   "cell_type": "code",
   "execution_count": 7,
   "metadata": {},
   "outputs": [],
   "source": [
    "from langchain_community.llms import Ollama\n"
   ]
  },
  {
   "cell_type": "code",
   "execution_count": 8,
   "metadata": {},
   "outputs": [],
   "source": [
    "model_name = \"phi3\"\n",
    "llm = Ollama(model=model_name)\n",
    "prompt = hub.pull(\"rlm/rag-prompt\")\n",
    "vectorstore = Chroma(persist_directory=\"./chroma_db\", embedding_function=GPT4AllEmbeddings())"
   ]
  },
  {
   "cell_type": "code",
   "execution_count": 9,
   "metadata": {},
   "outputs": [],
   "source": [
    "qa_chain = RetrievalQA.from_chain_type(\n",
    "        llm,\n",
    "        retriever=vectorstore.as_retriever(),\n",
    "        chain_type_kwargs={\"prompt\": prompt}\n",
    "    )"
   ]
  },
  {
   "cell_type": "code",
   "execution_count": 10,
   "metadata": {},
   "outputs": [
    {
     "name": "stderr",
     "output_type": "stream",
     "text": [
      "/opt/anaconda3/lib/python3.11/site-packages/langchain_core/_api/deprecation.py:119: LangChainDeprecationWarning: The method `Chain.__call__` was deprecated in langchain 0.1.0 and will be removed in 0.2.0. Use invoke instead.\n",
      "  warn_deprecated(\n"
     ]
    }
   ],
   "source": [
    "question = \"Tell me what the stats are saying\"\n",
    "result = qa_chain({\"query\": question })"
   ]
  },
  {
   "cell_type": "code",
   "execution_count": 11,
   "metadata": {},
   "outputs": [
    {
     "name": "stdout",
     "output_type": "stream",
     "text": [
      "('The LeBron James statistics show that he averages 26.3 points per game (13th '\n",
      " 'in the league), 6.7 rebounds (32nd in the league), and 9.7 assists per game '\n",
      " '(5th in the league). His shooting efficiency is at 62.7%, with a field goal '\n",
      " 'percentage of 1.7 steals per game (17th in the league) and 0 blocks on '\n",
      " 'record according to the provided context.')\n"
     ]
    }
   ],
   "source": [
    "import pprint\n",
    "pp = pprint.PrettyPrinter(indent=4)\n",
    "pp.pprint(result[\"result\"])"
   ]
  },
  {
   "cell_type": "code",
   "execution_count": null,
   "metadata": {},
   "outputs": [],
   "source": []
  }
 ],
 "metadata": {
  "kernelspec": {
   "display_name": "base",
   "language": "python",
   "name": "python3"
  },
  "language_info": {
   "codemirror_mode": {
    "name": "ipython",
    "version": 3
   },
   "file_extension": ".py",
   "mimetype": "text/x-python",
   "name": "python",
   "nbconvert_exporter": "python",
   "pygments_lexer": "ipython3",
   "version": "3.11.7"
  }
 },
 "nbformat": 4,
 "nbformat_minor": 2
}
