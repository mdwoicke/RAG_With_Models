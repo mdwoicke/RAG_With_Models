{
 "cells": [
  {
   "cell_type": "markdown",
   "metadata": {},
   "source": [
    "\n",
    "# List of Packages to Download\n",
    "\n",
    "```python\n",
    "!pip install langchain-chroma\n",
    "!pip install langchain\n",
    "!pip install langchain_community\n",
    "!pip install langchainhub\n",
    "!pip install -qU langchain-openai\n",
    "!pip install --upgrade --quiet  rank_bm25 > /dev/null\n",
    "!pip install faiss-cpu\n",
    "!pip install faiss-gpu\n",
    "```\n",
    "**Make sure to have an OPEN AI Api key available**\n",
    "______________________________________________________________________________\n",
    " "
   ]
  },
  {
   "cell_type": "markdown",
   "metadata": {},
   "source": [
    "# 1. Load Data\n"
   ]
  },
  {
   "cell_type": "code",
   "execution_count": 1,
   "metadata": {},
   "outputs": [],
   "source": [
    "from langchain_community.document_loaders import WebBaseLoader\n"
   ]
  },
  {
   "cell_type": "code",
   "execution_count": 7,
   "metadata": {},
   "outputs": [],
   "source": [
    "import os\n",
    "\n",
    "#os.environ[\"OPENAI_API_KEY\"] = \"\""
   ]
  },
  {
   "cell_type": "code",
   "execution_count": 2,
   "metadata": {},
   "outputs": [
    {
     "data": {
      "text/plain": [
       "[Document(page_content=\"Michael Jordan Narrowly Tops LeBron James as NBA GOAT; Kobe Bryant 3rd in Player Poll | News, Scores, Highlights, Stats, and Rumors | Bleacher ReportXBleacher ReportNBANEWSSCORESTEAMSRUMORSHIGHLIGHTSFANTASYDRAFTBR Sports on MaxBleacher ReportNBAWORLD FOOTBALLNFLAEWWWEMMABOXINGSPORTSSCORESAccountNBANEWSSCORESTEAMSRUMORSHIGHLIGHTSFANTASYDRAFTBR Sports on MaxFacebook LogoCopy Link IconHome>NBA>Los Angeles LakersMichael Jordan Narrowly Tops LeBron James as NBA GOAT; Kobe Bryant 3rd in Player PollTyler Conway@@jtylerconwayFeatured Columnist IVApril 22, 2024 CommentsComment Bubble IconJoe Murphy/NBAE via Getty ImagesAccording to NBA players, the GOAT debate consists of only two players and everyone else is in a distant rearview mirror.Michael Jordan edged out LeBron James as the greatest player in NBA history, according to a poll of 133 players conducted by The Athletic. Jordan received 45.9 percent of the vote, while James came in at 42.1 percent.Kobe Bryant was a distant third place at 9.8 percent, while Stephen Curry, Magic Johnson and Paul Pierce each received 0.8 percentâ€”the equivalent to one vote apiece.The vast majority of observersâ€”both players and fansâ€”acknowledge Jordan and James as the two greatest players in NBA history.Often, the debate between the two is split between generational lines. Younger fans who did not get to see Jordan play in his heyday lean toward James, while older fans who were around for Jordan's six-ring run in the 1990s often scoff at anyone testing His Airness.While there was no age data given in The Athletic poll, the vast majority of NBA players are closer to the James range. Even players in their mid-to-late 30s were only children when they were watching Jordan, so it's telling that MJ still carries enough respect to eclipse James, who was a childhood hero to countless current players.The player with perhaps the biggest gripe not being on this list is Kareem Abdul-Jabbar, whose resume matches MJ's championship brilliance and James' longevity. The fact he did not get a vote while Paul Pierce did seems a bit at odds with basketball history.That said, a GOAT means something different to different people.Facebook LogoCopy Link IconBleacher Report LogoFacebook LogoInstagram LogoAboutAdvertiseContact UsGet HelpCareersSitemapCommunity GuidelinesPrivacyCookie PreferencesTerms Of UseAdChoicesB/R Sports on MAXB/R Creators ProgramCopyright Â© 2024 Bleacher Report, Inc. A Warner Bros. Discovery Company. All Rights Reserved.\", metadata={'source': 'https://bleacherreport.com/articles/10117950-michael-jordan-narrowly-tops-lebron-james-as-nba-goat-kobe-bryant-3rd-in-player-poll', 'title': 'Michael Jordan Narrowly Tops LeBron James as NBA GOAT; Kobe Bryant 3rd in Player Poll | News, Scores, Highlights, Stats, and Rumors | Bleacher Report', 'description': 'According to NBA players, the GOAT debate consists of only two players and everyone else is in a distant rearview mirror. Michael Jordan edged out LeBronâ€¦', 'language': 'en'}),\n",
       " Document(page_content=\"\\n\\n\\nBlocked\\n\\n\\n\\nwhoa there, pardner!\\nYour request has been blocked due to a network policy.\\nTry logging in or creating an account here to get back to browsing.\\nIf you're running a script or application, please register or sign in with your developer credentials here. Additionally make sure your User-Agent is not empty and is something unique and descriptive and try again. if you're supplying an alternate User-Agent string,\\ntry changing back to default as that can sometimes result in a block.\\nYou can read Reddit's Terms of Service here.\\nif you think that we've incorrectly blocked you or you would like to discuss\\neasier ways to get the data you want, please file a ticket here.\\nwhen contacting us, please include your ip address which is: 2.248.43.5 and reddit account\\n\\n\\n\", metadata={'source': 'https://www.reddit.com/r/NBATalk/comments/1co5rhc/if_lebron_is_in_the_goat_debate_so_should_kobe/', 'title': 'Blocked', 'language': 'No language found.'})]"
      ]
     },
     "execution_count": 2,
     "metadata": {},
     "output_type": "execute_result"
    }
   ],
   "source": [
    "#https://en.wikipedia.org/wiki/LeBron_James\n",
    "# \"https://www.reddit.com/r/NBATalk/comments/1co5rhc/if_lebron_is_in_the_goat_debate_so_should_kobe/\"\n",
    "loader =  WebBaseLoader([\"https://bleacherreport.com/articles/10117950-michael-jordan-narrowly-tops-lebron-james-as-nba-goat-kobe-bryant-3rd-in-player-poll\",\"https://www.reddit.com/r/NBATalk/comments/1co5rhc/if_lebron_is_in_the_goat_debate_so_should_kobe/\" ])\n",
    "data = loader.load()\n",
    "data"
   ]
  },
  {
   "cell_type": "markdown",
   "metadata": {},
   "source": [
    "# 2. Make Ensemble of Retrievers"
   ]
  },
  {
   "cell_type": "code",
   "execution_count": 3,
   "metadata": {},
   "outputs": [],
   "source": [
    "from langchain.retrievers import EnsembleRetriever\n",
    "from langchain_community.retrievers import BM25Retriever\n",
    "from langchain_community.vectorstores import FAISS\n",
    "from langchain_openai import OpenAIEmbeddings"
   ]
  },
  {
   "cell_type": "markdown",
   "metadata": {},
   "source": [
    "### Retriever 1: BM25 retriever"
   ]
  },
  {
   "cell_type": "code",
   "execution_count": 4,
   "metadata": {},
   "outputs": [],
   "source": [
    "bm25_retriever = BM25Retriever.from_documents(data) #first retriever\n",
    "\n",
    "bm25_retriever.k = 2"
   ]
  },
  {
   "cell_type": "markdown",
   "metadata": {},
   "source": [
    "### Retriever 2: FAISS retriever"
   ]
  },
  {
   "cell_type": "code",
   "execution_count": 8,
   "metadata": {},
   "outputs": [],
   "source": [
    "embedding = OpenAIEmbeddings(model=\"text-embedding-3-small\")\n",
    "faiss_vectorstore = FAISS.from_documents(data, embedding) #vectorstore\n",
    "\n",
    "faiss_retriever = faiss_vectorstore.as_retriever(search_kwargs={\"k\": 2}) #second retriever"
   ]
  },
  {
   "cell_type": "markdown",
   "metadata": {},
   "source": [
    "### Combined Retriver 1 + Retriver 2"
   ]
  },
  {
   "cell_type": "code",
   "execution_count": 9,
   "metadata": {},
   "outputs": [],
   "source": [
    "# initialize the ensemble retriever\n",
    "ensemble_retriever = EnsembleRetriever(\n",
    "    retrievers=[bm25_retriever, faiss_retriever], weights=[0.5, 0.5]\n",
    ")\n"
   ]
  },
  {
   "cell_type": "markdown",
   "metadata": {},
   "source": [
    "# 3. Make a RAG pipeline\n"
   ]
  },
  {
   "cell_type": "code",
   "execution_count": 10,
   "metadata": {},
   "outputs": [],
   "source": [
    "from langchain_openai import ChatOpenAI\n",
    "from langchain_core.output_parsers import StrOutputParser\n",
    "from langchain_core.prompts import ChatPromptTemplate\n",
    "from langchain.chains import RetrievalQA\n",
    "from langchain import hub"
   ]
  },
  {
   "cell_type": "code",
   "execution_count": 11,
   "metadata": {},
   "outputs": [],
   "source": [
    "llm = ChatOpenAI(model=\"gpt-4o\")\n",
    "prompt = hub.pull(\"rlm/rag-prompt\")\n"
   ]
  },
  {
   "cell_type": "code",
   "execution_count": 12,
   "metadata": {},
   "outputs": [],
   "source": [
    "qa_chain = RetrievalQA.from_chain_type(\n",
    "        llm,\n",
    "        retriever=ensemble_retriever,\n",
    "        chain_type_kwargs={\"prompt\": prompt}\n",
    "    )"
   ]
  },
  {
   "cell_type": "code",
   "execution_count": 13,
   "metadata": {},
   "outputs": [
    {
     "name": "stderr",
     "output_type": "stream",
     "text": [
      "/opt/anaconda3/lib/python3.11/site-packages/langchain_core/_api/deprecation.py:119: LangChainDeprecationWarning: The method `Chain.__call__` was deprecated in langchain 0.1.0 and will be removed in 0.2.0. Use invoke instead.\n",
      "  warn_deprecated(\n"
     ]
    }
   ],
   "source": [
    "question = \"Who is the GOAT based upon people's opinions\"\n",
    "result = qa_chain({\"query\": question })"
   ]
  },
  {
   "cell_type": "code",
   "execution_count": 14,
   "metadata": {},
   "outputs": [
    {
     "name": "stdout",
     "output_type": "stream",
     "text": [
      "(\"Based on people's opinions, Michael Jordan is narrowly considered the GOAT \"\n",
      " '(Greatest of All Time) in NBA history, edging out LeBron James according to '\n",
      " 'a poll of 133 NBA players. Jordan received 45.9 percent of the vote, while '\n",
      " 'James received 42.1 percent. Kobe Bryant came in third with 9.8 percent of '\n",
      " 'the vote.')\n"
     ]
    }
   ],
   "source": [
    "import pprint\n",
    "pp = pprint.PrettyPrinter(indent=4)\n",
    "pp.pprint(result[\"result\"])"
   ]
  },
  {
   "cell_type": "code",
   "execution_count": null,
   "metadata": {},
   "outputs": [],
   "source": []
  }
 ],
 "metadata": {
  "kernelspec": {
   "display_name": "base",
   "language": "python",
   "name": "python3"
  },
  "language_info": {
   "codemirror_mode": {
    "name": "ipython",
    "version": 3
   },
   "file_extension": ".py",
   "mimetype": "text/x-python",
   "name": "python",
   "nbconvert_exporter": "python",
   "pygments_lexer": "ipython3",
   "version": "3.11.7"
  }
 },
 "nbformat": 4,
 "nbformat_minor": 2
}
